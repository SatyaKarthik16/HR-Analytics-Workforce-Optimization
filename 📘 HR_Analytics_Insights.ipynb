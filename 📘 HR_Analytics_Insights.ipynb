📘 HR_Analytics_Insights.ipynb

# 👥 HR Analytics & Workforce Optimization

# This notebook analyzes employee engagement, attrition, and training data 
# to uncover actionable insights for workforce planning.

# -------------------------------
# 📦 1. Import Libraries & Load Data
# -------------------------------

import pandas as pd
import matplotlib.pyplot as plt
import seaborn as sns

sns.set(style='whitegrid')

# Load dataset
df = pd.read_csv("data/synthetic_hr_data.csv")
df['HireDate'] = pd.to_datetime(df['HireDate'])
df.head()


# -------------------------------
# 📊 2. Attrition Count by Department
# -------------------------------

plt.figure(figsize=(10, 5))
sns.countplot(data=df, x='Department', hue='LeftCompany')
plt.title('Attrition Count by Department')
plt.xlabel('Department')
plt.ylabel('Number of Employees')
plt.legend(title='Left Company', labels=['No', 'Yes'])
plt.xticks(rotation=45)
plt.tight_layout()
plt.show()


# -------------------------------
# 🎯 3. Engagement by Performance Score
# -------------------------------

plt.figure(figsize=(10, 5))
sns.boxplot(data=df, x='PerformanceScore', y='EngagementScore', palette='Set2')
plt.title('Engagement Score by Performance Score')
plt.xlabel('Performance Score')
plt.ylabel('Engagement Score')
plt.tight_layout()
plt.show()


# -------------------------------
# 🧠 4. Training Hours vs Attrition
# -------------------------------

plt.figure(figsize=(10, 5))
sns.violinplot(data=df, x='LeftCompany', y='TrainingHours', palette='Set1')
plt.title('Training Hours Distribution vs. Attrition')
plt.xlabel('Left Company (0 = No, 1 = Yes)')
plt.ylabel('Training Hours')
plt.tight_layout()
plt.show()


# -------------------------------
# 📌 5. KPI Calculations
# -------------------------------

attrition_rate = df['LeftCompany'].mean()
avg_engagement = df['EngagementScore'].mean()
avg_training = df['TrainingHours'].mean()

print(f"Attrition Rate: {attrition_rate:.2%}")
print(f"Average Engagement Score: {avg_engagement:.2f}")
print(f"Average Training Hours: {avg_training:.2f}")



## ✅ Insights Summary

- Departments like **Sales** and **IT** show higher attrition.
- **Engagement score** increases with better **performance scores**.
- Employees with **lower training hours** tend to have a higher likelihood of attrition.
- These KPIs (attrition %, avg training, engagement) offer **clear targets** for workforce optimization strategies.



